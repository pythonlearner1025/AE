{
 "cells": [
  {
   "cell_type": "markdown",
   "metadata": {},
   "source": [
    "# Acoustoelectric signal detection feasibility\n",
    "\n",
    "### Signal calculation\n",
    "Starting from 100 µV EEG signal (0-100 Hz bandwidth):\n",
    "- Acoustoelectric coefficient: $K_{AE} = 4.3 \\times 10^{-10} \\text{ Pa}^{-1}$\n",
    "- Ultrasound pressure: 1 MPa\n",
    "- Focus area scaling: 5×5 mm spot vs 20×20 mm EEG pickup area = 25/400\n",
    "\n",
    "$$V_{AE} = 100 \\text{ µV} \\times 10^{-9} \\text{ Pa}^{-1} \\times 10^{6} \\text{ Pa} \\times \\frac{25}{400} = 2.69 \\text{ nV}$$\n",
    "\n",
    "For 5×5 mm focused ultrasound: **2.69 nV**"
   ]
  },
  {
   "cell_type": "markdown",
   "metadata": {},
   "source": [
    "### Thermal noise calculation\n",
    "Johnson noise: $V_{noise} = \\sqrt{4k_BTR\\Delta f}$\n",
    "\n",
    "With common reference electrode path resistance R = 1 kΩ:"
   ]
  },
  {
   "cell_type": "code",
   "execution_count": 113,
   "metadata": {},
   "outputs": [
    {
     "name": "stdout",
     "output_type": "stream",
     "text": [
      "R =  100 Ω: V_noise = 13.1 nV\n",
      "R =  500 Ω: V_noise = 29.3 nV\n",
      "R = 1000 Ω: V_noise = 41.4 nV\n",
      "R = 2000 Ω: V_noise = 58.5 nV\n",
      "\n",
      "Signal: 2.688 nV\n",
      "SNR at 1kΩ: -3.7 dB\n"
     ]
    }
   ],
   "source": [
    "import numpy as np\n",
    "\n",
    "# Constants\n",
    "k_B = 1.38e-23  # J/K\n",
    "T = 310  # K\n",
    "V_EEG_sig = 100000 # nV\n",
    "bandwidth = 100  # Hz\n",
    "pickup_area = 400\n",
    "focal_area = 25\n",
    "p = 1e6 # Pa\n",
    "k = 4.3e-10 # 1/Pa from https://pmc.ncbi.nlm.nih.gov/articles/PMC3476726/\n",
    "\n",
    "# Calculate noise for different resistances\n",
    "R_values = [100, 500, 1000, 2000]  # Ohms\n",
    "for R in R_values:\n",
    "    V_noise = np.sqrt(4 * k_B * T * R * bandwidth) * 1e9  # nV\n",
    "    print(f\"R = {R:4d} Ω: V_noise = {V_noise:.1f} nV\")\n",
    "\n",
    "# Signal vs noise\n",
    "V_signal = V_EEG_sig*k*p*(focal_area/pickup_area)  # nV\n",
    "print(f\"\\nSignal: {V_signal:.3f} nV\")\n",
    "print(f\"SNR at 1kΩ: {20*np.log10(V_signal/4.1):.1f} dB\")"
   ]
  },
  {
   "cell_type": "markdown",
   "metadata": {},
   "source": [
    "### Noise averaging with multiple electrode pairs\n",
    "\n",
    "If each active electrode has its own reference electrode, the reference noise becomes uncorrelated between channels."
   ]
  },
  {
   "cell_type": "code",
   "execution_count": 114,
   "metadata": {},
   "outputs": [
    {
     "name": "stdout",
     "output_type": "stream",
     "text": [
      "Pairs | Noise (nV) | SNR (dB)\n",
      "------|------------|----------\n",
      "    1 |      58.50 |    -26.8\n",
      "    2 |      41.37 |    -23.7\n",
      "    4 |      29.25 |    -20.7\n",
      "    8 |      20.68 |    -17.7\n",
      "   16 |      14.63 |    -14.7\n",
      "   32 |      10.34 |    -11.7\n"
     ]
    }
   ],
   "source": [
    "# SNR improvement with N independent electrode-reference pairs\n",
    "N_pairs = np.array([1, 2, 4, 8, 16, 32])\n",
    "R_ref = 2000  # Ohms per electrode\n",
    "\n",
    "# Noise reduces as 1/sqrt(N) for uncorrelated sources\n",
    "V_noise_single = np.sqrt(4 * k_B * T * R_ref * bandwidth) * 1e9\n",
    "V_noise_averaged = V_noise_single / np.sqrt(N_pairs)\n",
    "\n",
    "print(\"Pairs | Noise (nV) | SNR (dB)\")\n",
    "print(\"------|------------|----------\")\n",
    "for n, v_n in zip(N_pairs, V_noise_averaged):\n",
    "    snr = 20 * np.log10(V_signal / v_n)\n",
    "    print(f\"{n:5d} | {v_n:10.2f} | {snr:8.1f}\")"
   ]
  },
  {
   "cell_type": "markdown",
   "metadata": {},
   "source": [
    "### Common average reference (CAR)\n",
    "\n",
    "For N channels sharing a common reference with correlation factor ρ:"
   ]
  },
  {
   "cell_type": "code",
   "execution_count": 115,
   "metadata": {},
   "outputs": [
    {
     "name": "stdout",
     "output_type": "stream",
     "text": [
      "Channels |   ρ=0.5  |   ρ=0.7  |   ρ=0.9\n",
      "---------+----------+----------+---------\n",
      "       4 | 0.79     | 0.69     | 0.57\n",
      "       8 | 0.75     | 0.62     | 0.46\n",
      "      16 | 0.73     | 0.59     | 0.40\n",
      "      32 | 0.72     | 0.57     | 0.36\n",
      "      64 | 0.71     | 0.56     | 0.34\n",
      "     128 | 0.71     | 0.55     | 0.33\n"
     ]
    }
   ],
   "source": [
    "# CAR noise reduction\n",
    "def car_noise_reduction(N_channels, rho=0.7):\n",
    "    \"\"\"Residual noise fraction after CAR\"\"\"\n",
    "    return np.sqrt((1 - rho) + rho/N_channels)\n",
    "\n",
    "N_channels = [4, 8, 16, 32, 64, 128]\n",
    "rho_values = [0.5, 0.7, 0.9]\n",
    "\n",
    "print(\"Channels |   ρ=0.5  |   ρ=0.7  |   ρ=0.9\")\n",
    "print(\"---------+----------+----------+---------\")\n",
    "for N in N_channels:\n",
    "    reductions = [car_noise_reduction(N, rho) for rho in rho_values]\n",
    "    print(f\"{N:8d} | {reductions[0]:.2f}     | {reductions[1]:.2f}     | {reductions[2]:.2f}\")"
   ]
  },
  {
   "cell_type": "markdown",
   "metadata": {},
   "source": [
    "### Temporal averaging\n",
    "\n",
    "For repeated measurements with white noise:"
   ]
  },
  {
   "cell_type": "code",
   "execution_count": 116,
   "metadata": {},
   "outputs": [
    {
     "name": "stdout",
     "output_type": "stream",
     "text": [
      "Averages | Noise (nV) | SNR gain (dB)\n",
      "---------+------------+--------------\n",
      "       1 |      4.100 |          0.0\n",
      "      10 |      1.297 |         10.0\n",
      "     100 |      0.410 |         20.0\n",
      "    1000 |      0.130 |         30.0\n",
      "   10000 |      0.041 |         40.0\n"
     ]
    }
   ],
   "source": [
    "# Temporal averaging SNR improvement\n",
    "n_averages = [1, 10, 100, 1000, 10000]\n",
    "base_noise = 4.1  # nV at 1kΩ\n",
    "\n",
    "print(\"Averages | Noise (nV) | SNR gain (dB)\")\n",
    "print(\"---------+------------+--------------\")\n",
    "for n in n_averages:\n",
    "    noise_reduced = base_noise / np.sqrt(n)\n",
    "    gain_db = 10 * np.log10(n)\n",
    "    print(f\"{n:8d} | {noise_reduced:10.3f} | {gain_db:12.1f}\")"
   ]
  },
  {
   "cell_type": "markdown",
   "metadata": {},
   "source": [
    "### Combined approach\n",
    "\n",
    "Stacking all techniques:"
   ]
  },
  {
   "cell_type": "code",
   "execution_count": 117,
   "metadata": {},
   "outputs": [
    {
     "name": "stdout",
     "output_type": "stream",
     "text": [
      "Initial noise: 41.4 nV\n",
      "After 4 ref pairs: 20.68 nV\n",
      "After 32-ch CAR: 11.734 nV\n",
      "After 1000x averaging: 0.3711 nV\n",
      "\n",
      "Signal: 2.6875 nV\n",
      "Final SNR: 17.2 dB\n"
     ]
    }
   ],
   "source": [
    "# Calculate total SNR with combined techniques\n",
    "R_base = 1000  # Ohms\n",
    "\n",
    "# Base noise\n",
    "V_noise_base = np.sqrt(4 * k_B * T * R_base * bandwidth) * 1e9\n",
    "\n",
    "# Apply improvements\n",
    "n_ref_pairs = 4\n",
    "car_channels = 32\n",
    "car_correlation = 0.7\n",
    "n_time_avg = 1000\n",
    "\n",
    "# Calculate cumulative noise reduction\n",
    "noise_after_refs = V_noise_base / np.sqrt(n_ref_pairs)\n",
    "noise_after_car = noise_after_refs * car_noise_reduction(car_channels, car_correlation)\n",
    "noise_final = noise_after_car / np.sqrt(n_time_avg)\n",
    "\n",
    "print(f\"Initial noise: {V_noise_base:.1f} nV\")\n",
    "print(f\"After {n_ref_pairs} ref pairs: {noise_after_refs:.2f} nV\")\n",
    "print(f\"After {car_channels}-ch CAR: {noise_after_car:.3f} nV\")\n",
    "print(f\"After {n_time_avg}x averaging: {noise_final:.4f} nV\")\n",
    "print(f\"\\nSignal: {V_signal:.4f} nV\")\n",
    "print(f\"Final SNR: {20*np.log10(V_signal/noise_final):.1f} dB\")"
   ]
  },
  {
   "cell_type": "markdown",
   "metadata": {},
   "source": [
    "### Requirements for detection\n",
    "\n",
    "Calculate required noise for 20 dB SNR.\n",
    "\n",
    "Required averaging to achieve this from base noise:"
   ]
  },
  {
   "cell_type": "code",
   "execution_count": 118,
   "metadata": {},
   "outputs": [
    {
     "name": "stdout",
     "output_type": "stream",
     "text": [
      "0.26875\n",
      "Scenario | Starting noise | Required averages\n",
      "---------+----------------+------------------\n",
      "Single channel       |   4.10 nV |          233\n",
      "4 ref pairs          |   2.05 nV |           58\n",
      "4 refs + 32ch CAR    |   1.17 nV |           19\n",
      "4 refs + 128ch CAR   |   1.07 nV |           16\n"
     ]
    }
   ],
   "source": [
    "# Calculate required averaging\n",
    "target_noise = V_signal / 10  # 20 dB SNR\n",
    "base_noise = 4.1  # nV\n",
    "print(target_noise)\n",
    "\n",
    "# With various improvements\n",
    "scenarios = [\n",
    "    (\"Single channel\", base_noise),\n",
    "    (\"4 ref pairs\", base_noise / 2),\n",
    "    (\"4 refs + 32ch CAR\", base_noise / 2 * 0.57),\n",
    "    (\"4 refs + 128ch CAR\", base_noise / 2 * 0.52)\n",
    "]\n",
    "\n",
    "print(\"Scenario | Starting noise | Required averages\")\n",
    "print(\"---------+----------------+------------------\")\n",
    "for name, noise_start in scenarios:\n",
    "    n_required = (noise_start / target_noise) ** 2\n",
    "    print(f\"{name:20s} | {noise_start:6.2f} nV | {n_required:12.0f}\")"
   ]
  }
 ],
 "metadata": {
  "kernelspec": {
   "display_name": "Python 3",
   "language": "python",
   "name": "python3"
  },
  "language_info": {
   "name": "python",
   "version": "3.8.0"
  }
 },
 "nbformat": 4,
 "nbformat_minor": 4
}
